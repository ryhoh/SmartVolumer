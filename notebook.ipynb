{
 "cells": [
  {
   "cell_type": "code",
   "execution_count": 1,
   "metadata": {},
   "outputs": [],
   "source": [
    "%matplotlib inline\n",
    "import numpy as np\n",
    "import pandas as pd\n",
    "import matplotlib.pyplot as plt"
   ]
  },
  {
   "cell_type": "markdown",
   "metadata": {},
   "source": [
    "デバイス毎に音楽の再生音量の最大値は異なる．騒音の大きさから，再生音量を実数値( $0 \\leq x \\leq 1.0$ )で求める関数があると便利．  \n",
    "デバッグ用 SC-04J 上でAudioRecoderで計測した音量の値（騒音）と，その時に設定した音楽の再生音量を，騒音500毎にまとめたデータを用意．  \n",
    "回帰モデルにフィットさせて関数化する．"
   ]
  },
  {
   "cell_type": "code",
   "execution_count": 2,
   "metadata": {},
   "outputs": [
    {
     "data": {
      "text/html": [
       "<div>\n",
       "<style scoped>\n",
       "    .dataframe tbody tr th:only-of-type {\n",
       "        vertical-align: middle;\n",
       "    }\n",
       "\n",
       "    .dataframe tbody tr th {\n",
       "        vertical-align: top;\n",
       "    }\n",
       "\n",
       "    .dataframe thead th {\n",
       "        text-align: right;\n",
       "    }\n",
       "</style>\n",
       "<table border=\"1\" class=\"dataframe\">\n",
       "  <thead>\n",
       "    <tr style=\"text-align: right;\">\n",
       "      <th></th>\n",
       "      <th>騒音</th>\n",
       "      <th>再生音量</th>\n",
       "      <th>再生音量（実数値）</th>\n",
       "    </tr>\n",
       "  </thead>\n",
       "  <tbody>\n",
       "    <tr>\n",
       "      <th>0</th>\n",
       "      <td>11000</td>\n",
       "      <td>3</td>\n",
       "      <td>0.200000</td>\n",
       "    </tr>\n",
       "    <tr>\n",
       "      <th>1</th>\n",
       "      <td>10500</td>\n",
       "      <td>3</td>\n",
       "      <td>0.200000</td>\n",
       "    </tr>\n",
       "    <tr>\n",
       "      <th>2</th>\n",
       "      <td>10000</td>\n",
       "      <td>3</td>\n",
       "      <td>0.200000</td>\n",
       "    </tr>\n",
       "    <tr>\n",
       "      <th>3</th>\n",
       "      <td>9500</td>\n",
       "      <td>2</td>\n",
       "      <td>0.133333</td>\n",
       "    </tr>\n",
       "    <tr>\n",
       "      <th>4</th>\n",
       "      <td>9000</td>\n",
       "      <td>2</td>\n",
       "      <td>0.133333</td>\n",
       "    </tr>\n",
       "    <tr>\n",
       "      <th>5</th>\n",
       "      <td>8500</td>\n",
       "      <td>2</td>\n",
       "      <td>0.133333</td>\n",
       "    </tr>\n",
       "    <tr>\n",
       "      <th>6</th>\n",
       "      <td>8000</td>\n",
       "      <td>2</td>\n",
       "      <td>0.133333</td>\n",
       "    </tr>\n",
       "    <tr>\n",
       "      <th>7</th>\n",
       "      <td>7500</td>\n",
       "      <td>2</td>\n",
       "      <td>0.133333</td>\n",
       "    </tr>\n",
       "    <tr>\n",
       "      <th>8</th>\n",
       "      <td>7000</td>\n",
       "      <td>2</td>\n",
       "      <td>0.133333</td>\n",
       "    </tr>\n",
       "    <tr>\n",
       "      <th>9</th>\n",
       "      <td>6500</td>\n",
       "      <td>2</td>\n",
       "      <td>0.133333</td>\n",
       "    </tr>\n",
       "    <tr>\n",
       "      <th>10</th>\n",
       "      <td>6000</td>\n",
       "      <td>2</td>\n",
       "      <td>0.133333</td>\n",
       "    </tr>\n",
       "    <tr>\n",
       "      <th>11</th>\n",
       "      <td>5500</td>\n",
       "      <td>2</td>\n",
       "      <td>0.133333</td>\n",
       "    </tr>\n",
       "    <tr>\n",
       "      <th>12</th>\n",
       "      <td>5000</td>\n",
       "      <td>2</td>\n",
       "      <td>0.133333</td>\n",
       "    </tr>\n",
       "    <tr>\n",
       "      <th>13</th>\n",
       "      <td>4500</td>\n",
       "      <td>2</td>\n",
       "      <td>0.133333</td>\n",
       "    </tr>\n",
       "    <tr>\n",
       "      <th>14</th>\n",
       "      <td>4000</td>\n",
       "      <td>2</td>\n",
       "      <td>0.133333</td>\n",
       "    </tr>\n",
       "    <tr>\n",
       "      <th>15</th>\n",
       "      <td>3500</td>\n",
       "      <td>1</td>\n",
       "      <td>0.066667</td>\n",
       "    </tr>\n",
       "    <tr>\n",
       "      <th>16</th>\n",
       "      <td>3000</td>\n",
       "      <td>1</td>\n",
       "      <td>0.066667</td>\n",
       "    </tr>\n",
       "    <tr>\n",
       "      <th>17</th>\n",
       "      <td>2500</td>\n",
       "      <td>1</td>\n",
       "      <td>0.066667</td>\n",
       "    </tr>\n",
       "    <tr>\n",
       "      <th>18</th>\n",
       "      <td>2000</td>\n",
       "      <td>1</td>\n",
       "      <td>0.066667</td>\n",
       "    </tr>\n",
       "    <tr>\n",
       "      <th>19</th>\n",
       "      <td>1500</td>\n",
       "      <td>1</td>\n",
       "      <td>0.066667</td>\n",
       "    </tr>\n",
       "    <tr>\n",
       "      <th>20</th>\n",
       "      <td>1000</td>\n",
       "      <td>1</td>\n",
       "      <td>0.066667</td>\n",
       "    </tr>\n",
       "    <tr>\n",
       "      <th>21</th>\n",
       "      <td>500</td>\n",
       "      <td>0</td>\n",
       "      <td>0.000000</td>\n",
       "    </tr>\n",
       "    <tr>\n",
       "      <th>22</th>\n",
       "      <td>0</td>\n",
       "      <td>0</td>\n",
       "      <td>0.000000</td>\n",
       "    </tr>\n",
       "  </tbody>\n",
       "</table>\n",
       "</div>"
      ],
      "text/plain": [
       "       騒音  再生音量  再生音量（実数値）\n",
       "0   11000     3   0.200000\n",
       "1   10500     3   0.200000\n",
       "2   10000     3   0.200000\n",
       "3    9500     2   0.133333\n",
       "4    9000     2   0.133333\n",
       "5    8500     2   0.133333\n",
       "6    8000     2   0.133333\n",
       "7    7500     2   0.133333\n",
       "8    7000     2   0.133333\n",
       "9    6500     2   0.133333\n",
       "10   6000     2   0.133333\n",
       "11   5500     2   0.133333\n",
       "12   5000     2   0.133333\n",
       "13   4500     2   0.133333\n",
       "14   4000     2   0.133333\n",
       "15   3500     1   0.066667\n",
       "16   3000     1   0.066667\n",
       "17   2500     1   0.066667\n",
       "18   2000     1   0.066667\n",
       "19   1500     1   0.066667\n",
       "20   1000     1   0.066667\n",
       "21    500     0   0.000000\n",
       "22      0     0   0.000000"
      ]
     },
     "execution_count": 2,
     "metadata": {},
     "output_type": "execute_result"
    }
   ],
   "source": [
    "# データを読み込む\n",
    "# 再生音量は SC-04J  では15段階中での整数値であり，これを 0　から1.0 までの実数値に射影する\n",
    "df = pd.read_csv(\"data.csv\", names=[\"騒音\", \"再生音量\"])\n",
    "df[\"再生音量（実数値）\"] = df[\"再生音量\"] / 15\n",
    "df"
   ]
  },
  {
   "cell_type": "code",
   "execution_count": 3,
   "metadata": {},
   "outputs": [
    {
     "data": {
      "text/plain": [
       "Text(0,0.5,'play_level')"
      ]
     },
     "execution_count": 3,
     "metadata": {},
     "output_type": "execute_result"
    },
    {
     "data": {
      "image/png": "[encoded data removed]",
      "text/plain": [
       "<Figure size 432x288 with 1 Axes>"
      ]
     },
     "metadata": {
      "needs_background": "light"
     },
     "output_type": "display_data"
    }
   ],
   "source": [
    "# 騒音値が10^3オーダ，再生音量が10^-1オーダなので，オーダを再生音量側に揃える\n",
    "# プロット\n",
    "x = df.loc[:,\"騒音\"] / 100000\n",
    "y = df.loc[:,\"再生音量（実数値）\"]\n",
    "plt.scatter(x, y)\n",
    "plt.xlabel(\"env_noise\")\n",
    "plt.ylabel(\"play_level\")"
   ]
  },
  {
   "cell_type": "code",
   "execution_count": 4,
   "metadata": {},
   "outputs": [
    {
     "name": "stdout",
     "output_type": "stream",
     "text": [
      "0.8187799043062202 0.03260869565217393 [1.46245059]\n"
     ]
    }
   ],
   "source": [
    "# a + bx にフィット\n",
    "from sklearn.linear_model import LinearRegression\n",
    "lr = LinearRegression().fit(np.array(x).reshape(-1, 1), y)\n",
    "print(lr.score(np.array(x).reshape(-1, 1),y), lr.intercept_, lr.coef_)\n",
    "\n",
    "# 周囲の騒音が大きいほど，音楽の音量を上げたくなるので，その点では妥当？"
   ]
  },
  {
   "cell_type": "code",
   "execution_count": 5,
   "metadata": {},
   "outputs": [
    {
     "name": "stdout",
     "output_type": "stream",
     "text": [
      "0.8389230652388547 0.01768115942028997 [-7.75456428  2.31545266]\n"
     ]
    }
   ],
   "source": [
    "# 試しに a + bx + cx^2 にフィット\n",
    "lr2 = LinearRegression().fit(np.dstack((np.power(np.array(x),2),np.array(x)))[0], y)\n",
    "print(lr2.score(np.dstack((np.power(np.array(x),2),np.array(x)))[0],y), lr2.intercept_, lr2.coef_)\n",
    "\n",
    "# センサの値はshort型の整数部分=0~32767 この2次関数は，2*10^4あたりで減少を始めてしまうので，実態にそぐわない"
   ]
  },
  {
   "cell_type": "code",
   "execution_count": 6,
   "metadata": {},
   "outputs": [
    {
     "data": {
      "text/plain": [
       "<matplotlib.legend.Legend at 0x1a237cb550>"
      ]
     },
     "execution_count": 6,
     "metadata": {},
     "output_type": "execute_result"
    },
    {
     "data": {
      "image/png": "[encoded data removed]",
      "text/plain": [
       "<Figure size 864x432 with 1 Axes>"
      ]
     },
     "metadata": {
      "needs_background": "light"
     },
     "output_type": "display_data"
    }
   ],
   "source": [
    "# グラフ描写\n",
    "RNG = np.linspace(0, 0.32, 100)\n",
    "plt.figure(figsize=(12,6))\n",
    "plt.scatter(x, y, label=\"data\")\n",
    "plt.xlabel(\"env_noise\")\n",
    "plt.ylabel(\"play_level\")\n",
    "plt.plot(RNG, lr.intercept_ + lr.coef_ * RNG, label=\"a+bx\", color=\"green\")\n",
    "plt.plot(RNG, lr2.intercept_ + lr2.coef_[1] * RNG + lr2.coef_[0] * RNG * RNG, label=\"a+bx+cx^2\", color=\"red\")\n",
    "plt.legend(loc='upper left')"
   ]
  },
  {
   "cell_type": "code",
   "execution_count": 7,
   "metadata": {
    "scrolled": true
   },
   "outputs": [
    {
     "data": {
      "text/plain": [
       "<matplotlib.legend.Legend at 0x1a239b9e10>"
      ]
     },
     "execution_count": 7,
     "metadata": {},
     "output_type": "execute_result"
    },
    {
     "data": {
      "image/png": "[encoded data removed]",
      "text/plain": [
       "<Figure size 432x288 with 1 Axes>"
      ]
     },
     "metadata": {
      "needs_background": "light"
     },
     "output_type": "display_data"
    }
   ],
   "source": [
    "# 騒音から再生音量を求める関数を用いて，実際にデバイスの再生音量を決定してみる\n",
    "# 関数の値を四捨五入して整数化\n",
    "\n",
    "RNG = np.linspace(0, 0.12, 100)\n",
    "DIV_NUM = 15  # デバイス毎に異なる，再生音量の最大値\n",
    "\n",
    "plt.figure(figsize=(6, 4))\n",
    "plt.scatter(x, df[\"再生音量\"], label=\"data\")\n",
    "plt.plot(RNG, DIV_NUM * (lr.intercept_ + lr.coef_[0] * RNG), label=\"a+bx\", color=\"purple\")\n",
    "plt.plot(RNG, np.round(DIV_NUM * (lr.intercept_ + lr.coef_[0] * RNG)), label=\"a+bx round\", color=\"red\")\n",
    "plt.plot(RNG, DIV_NUM * (lr2.intercept_ + lr2.coef_[1] * RNG + lr2.coef_[0] * RNG * RNG), label=\"a+bx+cx^2\", color=\"green\")\n",
    "plt.plot(RNG, np.round(DIV_NUM * (lr2.intercept_ + lr2.coef_[1] * RNG + lr2.coef_[0] * RNG * RNG)), label=\"a+bx+cx^2 round\", color=\"cyan\")\n",
    "plt.legend(loc='upper left')"
   ]
  },
  {
   "cell_type": "markdown",
   "metadata": {},
   "source": [
    "1次関数 $f_1(x)$ へのフィットは，全体では妥当だが，騒音xが $0 \\leq x \\leq 0.12$ ではおかしい．  \n",
    "2次関数 $f_2(x)$ へのフィットは，騒音xが $0 \\leq x \\leq 0.12$の場合は元のデータに近い表現だが，全体ではおかしい．  \n",
    "この2つの関数のいいとこ取りをした関数 $f_d(x) = $ ：  \n",
    "$$\n",
    "f_2(x) \\ \\ \\ \\ if \\ x \\ \\leq 0.06  \\\\\n",
    "\\max(f_1(x), \\ f_2(x)) \\ \\ \\ \\ otherwise  \n",
    "$$\n",
    "はどうだろうか．  \n",
    "（右側の交点より左を2次関数，右側を1次関数にしたい）  "
   ]
  },
  {
   "cell_type": "code",
   "execution_count": 8,
   "metadata": {},
   "outputs": [
    {
     "data": {
      "text/plain": [
       "<matplotlib.legend.Legend at 0x1a23a37f28>"
      ]
     },
     "execution_count": 8,
     "metadata": {},
     "output_type": "execute_result"
    },
    {
     "data": {
      "image/png": "[encoded data removed]",
      "text/plain": [
       "<Figure size 432x288 with 1 Axes>"
      ]
     },
     "metadata": {
      "needs_background": "light"
     },
     "output_type": "display_data"
    }
   ],
   "source": [
    "def f_d(x):\n",
    "    if x <= 0.06:\n",
    "        return lr2.intercept_ + lr2.coef_[1] * x + lr2.coef_[0] * x * x\n",
    "    else:\n",
    "        return max(lr.intercept_ + lr.coef_[0] * x, lr2.intercept_ + lr2.coef_[1] * x + lr2.coef_[0] * x * x)\n",
    "    \n",
    "plt.scatter(x, df[\"再生音量\"], label=\"data\")\n",
    "plt.plot(RNG, DIV_NUM * np.frompyfunc(f_d,1,1)(RNG), label=\"f_d\", color=\"purple\")\n",
    "plt.plot(RNG, np.round(DIV_NUM * np.frompyfunc(f_d,1,1)(RNG).astype(np.float32)), label=\"f_d round\", color=\"red\")\n",
    "plt.legend(loc='upper left')"
   ]
  },
  {
   "cell_type": "code",
   "execution_count": 9,
   "metadata": {},
   "outputs": [],
   "source": [
    "# まだズレてるけど前よりマシなので当面これを採用"
   ]
  }
 ],
 "metadata": {
  "kernelspec": {
   "display_name": "Python 3",
   "language": "python",
   "name": "python3"
  },
  "language_info": {
   "codemirror_mode": {
    "name": "ipython",
    "version": 3
   },
   "file_extension": ".py",
   "mimetype": "text/x-python",
   "name": "python",
   "nbconvert_exporter": "python",
   "pygments_lexer": "ipython3",
   "version": "3.7.0"
  }
 },
 "nbformat": 4,
 "nbformat_minor": 2
}
